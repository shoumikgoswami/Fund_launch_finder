{
 "cells": [
  {
   "cell_type": "code",
   "execution_count": 1,
   "metadata": {
    "colab": {
     "base_uri": "https://localhost:8080/",
     "height": 35
    },
    "colab_type": "code",
    "id": "E8TSurhe2yb8",
    "outputId": "35fc8495-57ee-42ed-e316-15e5846866ef"
   },
   "outputs": [
    {
     "name": "stdout",
     "output_type": "stream",
     "text": [
      "Writing 'nlu_md' (str) to file 'nlu.md'.\n"
     ]
    }
   ],
   "source": [
    "#Training sample set - specify each intent with sample texts. Also, annotate the specific entities that needs to be extracted\n",
    "nlu_md = \"\"\"\n",
    "\n",
    "## intent:get_aum\n",
    "- Assets under management as at [30 April 2019](aum_date) exceeded [USD 119.9 billion](aum_value).\n",
    "- The assets under management (AUM) in the BGF range increased from US144.12 billion to [US145.80 billion](aum_value) over the period,\n",
    "as strong inflows into the groups specialist funds were offset by weakness in some of the European and high yield bond funds.\n",
    "- It is one of the largest asset managers in the world with [USD 2.46 trillion](aum_value) in assets under management as of [March 2018](aum_date)\n",
    "\n",
    "## intent:fund_launch\n",
    "- The [Asian High Yield Bond Fund](fund_name) launched on [1 December 2017](launch_date).\n",
    "- The [China A-Share Opportunities Fund](fund_name) launched on [26 October 2017](launch_date) to offer specialist investment in the expanding onshore market in China.\n",
    "- The [China Flexible Equity Fund](fund_name) launched on [31 October 2017](launch_date), giving selective access to Chinese equities.\n",
    "- The [Dynamic High Income Fund](fund)name launched on [6 February 2018](launch_date).\n",
    "\n",
    "\"\"\"\n",
    "%store nlu_md > nlu.md"
   ]
  },
  {
   "cell_type": "code",
   "execution_count": 2,
   "metadata": {
    "colab": {
     "base_uri": "https://localhost:8080/",
     "height": 519
    },
    "colab_type": "code",
    "id": "zUZzsHqe3J4a",
    "outputId": "056673ef-8b8c-454a-c8d3-4f93cea0d9ff"
   },
   "outputs": [],
   "source": [
    "#Load the dependencies\n",
    "from rasa.nlu.training_data import load_data\n",
    "from rasa.nlu import config\n",
    "from rasa.nlu.model import Trainer\n",
    "from rasa.nlu.model import Metadata, Interpreter\n",
    "import json\n",
    "import warnings\n",
    "warnings.filterwarnings(\"ignore\")\n",
    "import os\n",
    "os.environ['TF_CPP_MIN_LOG_LEVEL'] = '3' "
   ]
  },
  {
   "cell_type": "code",
   "execution_count": 3,
   "metadata": {
    "colab": {},
    "colab_type": "code",
    "id": "yxJCSpCi3Kju"
   },
   "outputs": [],
   "source": [
    "#Function to get a JSON response of the output\n",
    "def intent_print(o):\n",
    "    print(json.dumps(o, indent=2))"
   ]
  },
  {
   "cell_type": "code",
   "execution_count": 4,
   "metadata": {
    "colab": {},
    "colab_type": "code",
    "id": "xtTmWf0R3M4B"
   },
   "outputs": [
    {
     "name": "stdout",
     "output_type": "stream",
     "text": [
      "Writing 'tensor_config' (str) to file 'tensor_config.yml'.\n"
     ]
    }
   ],
   "source": [
    "#Specify the model pipeline\n",
    "tensor_config = \"\"\"\n",
    "language: \"en\"\n",
    "\n",
    "pipeline:\n",
    "- name: \"WhitespaceTokenizer\"\n",
    "- name: \"RegexFeaturizer\"\n",
    "- name: \"CRFEntityExtractor\"\n",
    "- name: \"EntitySynonymMapper\"\n",
    "- name: \"CountVectorsFeaturizer\"\n",
    "- name: \"EmbeddingIntentClassifier\"\n",
    "  intent_tokenization_flag: true\n",
    "  intent_split_symbol: \"+\"\n",
    "\"\"\"\n",
    "%store tensor_config > tensor_config.yml"
   ]
  },
  {
   "cell_type": "code",
   "execution_count": 7,
   "metadata": {},
   "outputs": [
    {
     "name": "stderr",
     "output_type": "stream",
     "text": [
      "WARNING:rasa.nlu.extractors.crf_entity_extractor:Misaligned entity annotation for 'Dynamic High Income Fundname' in sentence 'The Dynamic High Income Fundname launched on 6 February 2018.' with intent 'fund_launch'. Make sure the start and end values of the annotated training examples end at token boundaries (e.g. don't include trailing whitespaces or punctuation).\n",
      "Epochs: 100%|█████████████████████████████████████████████████| 300/300 [00:15<00:00, 19.08it/s, loss=0.213, acc=1.000]\n"
     ]
    }
   ],
   "source": [
    "#Train the model and persist it for further use\n",
    "training_data = load_data('nlu.md')\n",
    "trainer = Trainer(config.load('tensor_config.yml'))\n",
    "trainer.train(training_data)\n",
    "model_directory = trainer.persist(\"./models/nlu\", fixed_model_name=\"tensor\")"
   ]
  },
  {
   "cell_type": "code",
   "execution_count": 8,
   "metadata": {},
   "outputs": [
    {
     "name": "stdout",
     "output_type": "stream",
     "text": [
      "WARNING:tensorflow:From C:\\ProgramData\\Anaconda3\\lib\\site-packages\\tensorflow\\python\\training\\saver.py:1276: checkpoint_exists (from tensorflow.python.training.checkpoint_management) is deprecated and will be removed in a future version.\n",
      "Instructions for updating:\n",
      "Use standard file APIs to check for files with this prefix.\n"
     ]
    },
    {
     "name": "stderr",
     "output_type": "stream",
     "text": [
      "WARNING:tensorflow:From C:\\ProgramData\\Anaconda3\\lib\\site-packages\\tensorflow\\python\\training\\saver.py:1276: checkpoint_exists (from tensorflow.python.training.checkpoint_management) is deprecated and will be removed in a future version.\n",
      "Instructions for updating:\n",
      "Use standard file APIs to check for files with this prefix.\n"
     ]
    },
    {
     "name": "stdout",
     "output_type": "stream",
     "text": [
      "INFO:tensorflow:Restoring parameters from ./models/nlu/tensor\\component_5_EmbeddingIntentClassifier.ckpt\n"
     ]
    },
    {
     "name": "stderr",
     "output_type": "stream",
     "text": [
      "INFO:tensorflow:Restoring parameters from ./models/nlu/tensor\\component_5_EmbeddingIntentClassifier.ckpt\n"
     ]
    }
   ],
   "source": [
    "#Load the interpreter to test the model with sample inputs\n",
    "interpreter = Interpreter.load('./models/nlu/tensor')"
   ]
  },
  {
   "cell_type": "code",
   "execution_count": 10,
   "metadata": {},
   "outputs": [
    {
     "name": "stdout",
     "output_type": "stream",
     "text": [
      "{\n",
      "  \"intent\": {\n",
      "    \"name\": \"fund_launch\",\n",
      "    \"confidence\": 0.9687952399253845\n",
      "  },\n",
      "  \"entities\": [\n",
      "    {\n",
      "      \"start\": 4,\n",
      "      \"end\": 30,\n",
      "      \"value\": \"Asian High Yield Bond Fund\",\n",
      "      \"entity\": \"fund_name\",\n",
      "      \"confidence\": 0.8942744324046314,\n",
      "      \"extractor\": \"CRFEntityExtractor\"\n",
      "    },\n",
      "    {\n",
      "      \"start\": 43,\n",
      "      \"end\": 58,\n",
      "      \"value\": \"1 December 2017\",\n",
      "      \"entity\": \"launch_date\",\n",
      "      \"confidence\": 0.9033348076043048,\n",
      "      \"extractor\": \"CRFEntityExtractor\"\n",
      "    }\n",
      "  ],\n",
      "  \"intent_ranking\": [\n",
      "    {\n",
      "      \"name\": \"fund_launch\",\n",
      "      \"confidence\": 0.9687952399253845\n",
      "    },\n",
      "    {\n",
      "      \"name\": \"get_aum\",\n",
      "      \"confidence\": 0.031204750761389732\n",
      "    }\n",
      "  ],\n",
      "  \"text\": \"The Asian High Yield Bond Fund launched on 1 December 2017\"\n",
      "}\n"
     ]
    }
   ],
   "source": [
    "intent_print(interpreter.parse('The Asian High Yield Bond Fund launched on 1 December 2017'))"
   ]
  },
  {
   "cell_type": "code",
   "execution_count": 11,
   "metadata": {},
   "outputs": [],
   "source": [
    "int = interpreter.parse('The Asian High Yield Bond Fund launched on 1 December 2017')"
   ]
  },
  {
   "cell_type": "code",
   "execution_count": 12,
   "metadata": {},
   "outputs": [
    {
     "data": {
      "text/plain": [
       "{'name': 'fund_launch', 'confidence': 0.9687952399253845}"
      ]
     },
     "execution_count": 12,
     "metadata": {},
     "output_type": "execute_result"
    }
   ],
   "source": [
    "int['intent']"
   ]
  }
 ],
 "metadata": {
  "accelerator": "GPU",
  "colab": {
   "name": "RASA ESG.ipynb",
   "provenance": []
  },
  "kernelspec": {
   "display_name": "Python 3",
   "language": "python",
   "name": "python3"
  },
  "language_info": {
   "codemirror_mode": {
    "name": "ipython",
    "version": 3
   },
   "file_extension": ".py",
   "mimetype": "text/x-python",
   "name": "python",
   "nbconvert_exporter": "python",
   "pygments_lexer": "ipython3",
   "version": "3.7.4"
  }
 },
 "nbformat": 4,
 "nbformat_minor": 1
}
